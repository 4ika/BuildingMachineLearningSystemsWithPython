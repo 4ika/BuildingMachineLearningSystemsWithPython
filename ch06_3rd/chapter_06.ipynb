{
 "cells": [
  {
   "cell_type": "markdown",
   "metadata": {},
   "source": [
    "# Building Machine Learning Systems with Python - Chapter 6"
   ]
  },
  {
   "cell_type": "markdown",
   "metadata": {},
   "source": [
    "This code is supporting material for the book `Building Machine Learning Systems with Python` by [Willi Richert](https://www.linkedin.com/in/willirichert/) and [Luis Pedro Coelho](https://www.linkedin.com/in/luispedrocoelho/)  published by PACKT Publishing.\n",
    "\n",
    "It is made available under the MIT License.\n",
    "\n",
    "All code examples use Python in version..."
   ]
  },
  {
   "cell_type": "code",
   "execution_count": 1,
   "metadata": {},
   "outputs": [
    {
     "data": {
      "text/plain": [
       "'3.6.3 |Anaconda custom (64-bit)| (default, Nov  8 2017, 15:10:56) [MSC v.1900 64 bit (AMD64)]'"
      ]
     },
     "execution_count": 1,
     "metadata": {},
     "output_type": "execute_result"
    }
   ],
   "source": [
    "import sys\n",
    "sys.version"
   ]
  },
  {
   "cell_type": "markdown",
   "metadata": {},
   "source": [
    "In this chapter we are discussing two methods to reduce the feature space: filters and wrappers."
   ]
  },
  {
   "cell_type": "markdown",
   "metadata": {},
   "source": [
    "## Utilities we will need"
   ]
  },
  {
   "cell_type": "code",
   "execution_count": 14,
   "metadata": {},
   "outputs": [],
   "source": [
    "import os\n",
    "CHART_DIR = \"charts\"\n",
    "if not os.path.exists(CHART_DIR):\n",
    "    os.mkdir(CHART_DIR)\n",
    "\n",
    "DATA_DIR = \"data\"\n",
    "if not os.path.exists(DATA_DIR):\n",
    "    raise Exception(\"Data directory %s not found\" % os.path.abspath(DATA_DIR))\n",
    "\n",
    "%matplotlib inline\n",
    "import matplotlib.pyplot as plt\n",
    "plt.style.use('ggplot')\n",
    "\n",
    "import numpy as np\n",
    "import scipy\n",
    "\n",
    "DPI = 300\n",
    "\n",
    "def save_png(name):\n",
    "    fn = 'B09124_06_%s.png'%name # please ignore, it just helps our publisher :-)\n",
    "    plt.savefig(os.path.join(CHART_DIR, fn), bbox_inches=\"tight\")"
   ]
  },
  {
   "cell_type": "markdown",
   "metadata": {},
   "source": [
    "## Converting raw text into a bag of words"
   ]
  },
  {
   "cell_type": "code",
   "execution_count": 15,
   "metadata": {},
   "outputs": [
    {
     "name": "stdout",
     "output_type": "stream",
     "text": [
      "CountVectorizer(analyzer='word', binary=False, decode_error='strict',\n",
      "        dtype=<class 'numpy.int64'>, encoding='utf-8', input='content',\n",
      "        lowercase=True, max_df=1.0, max_features=None, min_df=1,\n",
      "        ngram_range=(1, 1), preprocessor=None, stop_words=None,\n",
      "        strip_accents=None, token_pattern='(?u)\\\\b\\\\w\\\\w+\\\\b',\n",
      "        tokenizer=None, vocabulary=None)\n"
     ]
    }
   ],
   "source": [
    "from sklearn.feature_extraction.text import CountVectorizer\n",
    "vectorizer = CountVectorizer(min_df=1)\n",
    "print(vectorizer)"
   ]
  },
  {
   "cell_type": "code",
   "execution_count": 16,
   "metadata": {},
   "outputs": [
    {
     "data": {
      "text/plain": [
       "['disk', 'format', 'hard', 'how', 'my', 'problems', 'to']"
      ]
     },
     "execution_count": 16,
     "metadata": {},
     "output_type": "execute_result"
    }
   ],
   "source": [
    "content = [\"How to format my hard disk\", \n",
    "           \" Hard disk format  problems \"]\n",
    "X = vectorizer.fit_transform(content)\n",
    "vectorizer.get_feature_names()"
   ]
  },
  {
   "cell_type": "code",
   "execution_count": 17,
   "metadata": {},
   "outputs": [
    {
     "name": "stdout",
     "output_type": "stream",
     "text": [
      "[[1 1 1 1 1 0 1]\n",
      " [1 1 1 0 0 1 0]]\n"
     ]
    }
   ],
   "source": [
    "print(X.toarray())"
   ]
  },
  {
   "cell_type": "code",
   "execution_count": 18,
   "metadata": {},
   "outputs": [
    {
     "name": "stdout",
     "output_type": "stream",
     "text": [
      "[[1 1]\n",
      " [1 1]\n",
      " [1 1]\n",
      " [1 0]\n",
      " [1 0]\n",
      " [0 1]\n",
      " [1 0]]\n"
     ]
    }
   ],
   "source": [
    "print(X.toarray().transpose()) "
   ]
  },
  {
   "cell_type": "markdown",
   "metadata": {},
   "source": [
    "## Counting words"
   ]
  },
  {
   "cell_type": "code",
   "execution_count": 19,
   "metadata": {},
   "outputs": [],
   "source": [
    "TOY_DIR = os.path.join(DATA_DIR, \"toy\")\n",
    "posts = [open(os.path.join(TOY_DIR, f)).read() for f in os.listdir(TOY_DIR)]\n",
    "\n",
    "from sklearn.feature_extraction.text import CountVectorizer\n",
    "vectorizer = CountVectorizer(min_df=1) "
   ]
  },
  {
   "cell_type": "code",
   "execution_count": 20,
   "metadata": {},
   "outputs": [
    {
     "name": "stdout",
     "output_type": "stream",
     "text": [
      "#samples: 5, #features: 25\n"
     ]
    }
   ],
   "source": [
    "X_train = vectorizer.fit_transform(posts)\n",
    "num_samples, num_features = X_train.shape\n",
    "print(\"#samples: %d, #features: %d\" % (num_samples,  num_features))"
   ]
  },
  {
   "cell_type": "code",
   "execution_count": 21,
   "metadata": {},
   "outputs": [
    {
     "name": "stdout",
     "output_type": "stream",
     "text": [
      "['about', 'actually', 'capabilities', 'contains', 'data', 'databases', 'images', 'imaging', 'interesting', 'is', 'it', 'learning', 'machine', 'most', 'much', 'not', 'permanently', 'post', 'provide', 'save', 'storage', 'store', 'stuff', 'this', 'toy']\n"
     ]
    }
   ],
   "source": [
    "print(vectorizer.get_feature_names())"
   ]
  },
  {
   "cell_type": "code",
   "execution_count": 22,
   "metadata": {},
   "outputs": [
    {
     "name": "stdout",
     "output_type": "stream",
     "text": [
      "  (0, 5)\t1\n",
      "  (0, 7)\t1\n"
     ]
    }
   ],
   "source": [
    "new_post = \"imaging databases\"\n",
    "new_post_vec = vectorizer.transform([new_post]) \n",
    "print(new_post_vec)"
   ]
  },
  {
   "cell_type": "code",
   "execution_count": 23,
   "metadata": {},
   "outputs": [
    {
     "name": "stdout",
     "output_type": "stream",
     "text": [
      "[[0 0 0 0 0 1 0 1 0 0 0 0 0 0 0 0 0 0 0 0 0 0 0 0 0]]\n"
     ]
    }
   ],
   "source": [
    "print(new_post_vec.toarray())"
   ]
  },
  {
   "cell_type": "code",
   "execution_count": 24,
   "metadata": {},
   "outputs": [],
   "source": [
    "def dist_raw(v1, v2): \n",
    "    delta = v1-v2\n",
    "    return scipy.linalg.norm(delta.toarray()) "
   ]
  },
  {
   "cell_type": "code",
   "execution_count": 25,
   "metadata": {},
   "outputs": [
    {
     "name": "stdout",
     "output_type": "stream",
     "text": [
      "=== Post 0 with dist=4.00:\n",
      "    'This is a toy post about machine learning. Actually, it contains not much interesting stuff.'\n",
      "=== Post 1 with dist=1.73:\n",
      "    'Imaging databases provide storage capabilities.'\n",
      "=== Post 2 with dist=2.00:\n",
      "    'Most imaging databases save images permanently.\n",
      "'\n",
      "=== Post 3 with dist=1.41:\n",
      "    'Imaging databases store data.'\n",
      "=== Post 4 with dist=5.10:\n",
      "    'Imaging databases store data. Imaging databases store data. Imaging databases store data.'\n",
      "\n",
      "==> Best post is 3 with dist=1.41\n"
     ]
    }
   ],
   "source": [
    "def best_post(X, new_vec, dist_func):\n",
    "    best_doc = None\n",
    "    best_dist = sys.maxsize\n",
    "    best_i = None\n",
    "    for i, post in enumerate(posts):\n",
    "        if post == new_post: \n",
    "            continue \n",
    "        post_vec = X.getrow(i) \n",
    "        d = dist_func(post_vec, new_vec) \n",
    "        print(\"=== Post %i with dist=%.2f:\\n    '%s'\" % \\\n",
    "              (i, d, post)) \n",
    "        if d < best_dist: \n",
    "            best_dist = d \n",
    "            best_i = i\n",
    "    print(\"\\n==> Best post is %i with dist=%.2f\" % \\\n",
    "          (best_i, best_dist))\n",
    "    \n",
    "best_post(X_train, new_post_vec, dist_raw)"
   ]
  },
  {
   "cell_type": "code",
   "execution_count": 26,
   "metadata": {},
   "outputs": [
    {
     "name": "stdout",
     "output_type": "stream",
     "text": [
      "[[0 0 0 0 1 1 0 1 0 0 0 0 0 0 0 0 0 0 0 0 0 1 0 0 0]]\n"
     ]
    }
   ],
   "source": [
    "print(X_train.getrow(3).toarray())"
   ]
  },
  {
   "cell_type": "code",
   "execution_count": 27,
   "metadata": {},
   "outputs": [
    {
     "name": "stdout",
     "output_type": "stream",
     "text": [
      "[[0 0 0 0 3 3 0 3 0 0 0 0 0 0 0 0 0 0 0 0 0 3 0 0 0]]\n"
     ]
    }
   ],
   "source": [
    "print(X_train.getrow(4).toarray())"
   ]
  },
  {
   "cell_type": "markdown",
   "metadata": {},
   "source": [
    "## Normalizing word count vectors"
   ]
  },
  {
   "cell_type": "code",
   "execution_count": 28,
   "metadata": {},
   "outputs": [
    {
     "name": "stdout",
     "output_type": "stream",
     "text": [
      "=== Post 0 with dist=1.41:\n",
      "    'This is a toy post about machine learning. Actually, it contains not much interesting stuff.'\n",
      "=== Post 1 with dist=0.86:\n",
      "    'Imaging databases provide storage capabilities.'\n",
      "=== Post 2 with dist=0.92:\n",
      "    'Most imaging databases save images permanently.\n",
      "'\n",
      "=== Post 3 with dist=0.77:\n",
      "    'Imaging databases store data.'\n",
      "=== Post 4 with dist=0.77:\n",
      "    'Imaging databases store data. Imaging databases store data. Imaging databases store data.'\n",
      "\n",
      "==> Best post is 3 with dist=0.77\n"
     ]
    }
   ],
   "source": [
    "def dist_norm(v1, v2): \n",
    "    v1_normalized = v1 / scipy.linalg.norm(v1.toarray()) \n",
    "    v2_normalized = v2 / scipy.linalg.norm(v2.toarray()) \n",
    "    delta = v1_normalized - v2_normalized  \n",
    "    return scipy.linalg.norm(delta.toarray()) \n",
    "\n",
    "best_post(X_train, new_post_vec, dist_norm)"
   ]
  },
  {
   "cell_type": "markdown",
   "metadata": {},
   "source": [
    "## Removing less important words"
   ]
  },
  {
   "cell_type": "code",
   "execution_count": 29,
   "metadata": {},
   "outputs": [
    {
     "name": "stdout",
     "output_type": "stream",
     "text": [
      "['a', 'about', 'above', 'across', 'after', 'afterwards', 'again', 'against', 'all', 'almost', 'alone', 'along', 'already', 'also', 'although', 'always', 'am', 'among', 'amongst', 'amoungst']\n"
     ]
    }
   ],
   "source": [
    "vect_engl = CountVectorizer(min_df=1, stop_words='english')\n",
    "print(sorted(vect_engl.get_stop_words())[0:20])"
   ]
  },
  {
   "cell_type": "code",
   "execution_count": 30,
   "metadata": {},
   "outputs": [
    {
     "name": "stdout",
     "output_type": "stream",
     "text": [
      "#samples: 5, #features: 18\n",
      "['actually', 'capabilities', 'contains', 'data', 'databases', 'images', 'imaging', 'interesting', 'learning', 'machine', 'permanently', 'post', 'provide', 'save', 'storage', 'store', 'stuff', 'toy']\n"
     ]
    }
   ],
   "source": [
    "X_train_engl = vect_engl.fit_transform(posts)\n",
    "num_samples_engl, num_features_engl = X_train_engl.shape\n",
    "print(\"#samples: %d, #features: %d\" % (num_samples_engl,  num_features_engl))\n",
    "print(vect_engl.get_feature_names())"
   ]
  },
  {
   "cell_type": "code",
   "execution_count": 31,
   "metadata": {},
   "outputs": [
    {
     "name": "stdout",
     "output_type": "stream",
     "text": [
      "  (0, 4)\t1\n",
      "  (0, 6)\t1\n"
     ]
    }
   ],
   "source": [
    "new_post_vec_engl = vect_engl.transform([new_post]) \n",
    "print(new_post_vec_engl)"
   ]
  },
  {
   "cell_type": "code",
   "execution_count": 32,
   "metadata": {},
   "outputs": [
    {
     "name": "stdout",
     "output_type": "stream",
     "text": [
      "=== Post 0 with dist=1.41:\n",
      "    'This is a toy post about machine learning. Actually, it contains not much interesting stuff.'\n",
      "=== Post 1 with dist=0.86:\n",
      "    'Imaging databases provide storage capabilities.'\n",
      "=== Post 2 with dist=0.86:\n",
      "    'Most imaging databases save images permanently.\n",
      "'\n",
      "=== Post 3 with dist=0.77:\n",
      "    'Imaging databases store data.'\n",
      "=== Post 4 with dist=0.77:\n",
      "    'Imaging databases store data. Imaging databases store data. Imaging databases store data.'\n",
      "\n",
      "==> Best post is 3 with dist=0.77\n"
     ]
    }
   ],
   "source": [
    "best_post(X_train_engl, new_post_vec_engl, dist_norm)"
   ]
  },
  {
   "cell_type": "markdown",
   "metadata": {},
   "source": [
    "## Stemming"
   ]
  },
  {
   "cell_type": "code",
   "execution_count": 33,
   "metadata": {},
   "outputs": [
    {
     "name": "stdout",
     "output_type": "stream",
     "text": [
      "graphic\n",
      "imag\n",
      "imag\n",
      "imagin\n",
      "imagin\n",
      "buy\n",
      "buy\n",
      "bought\n"
     ]
    }
   ],
   "source": [
    "import nltk.stem\n",
    "\n",
    "s = nltk.stem.SnowballStemmer('english')\n",
    "print(s.stem(\"graphics\"))\n",
    "print(s.stem(\"imaging\"))\n",
    "print(s.stem(\"image\"))\n",
    "print(s.stem(\"imagination\"))\n",
    "print(s.stem(\"imagine\"))\n",
    "print(s.stem(\"buys\"))\n",
    "print(s.stem(\"buying\"))\n",
    "print(s.stem(\"bought\"))"
   ]
  },
  {
   "cell_type": "code",
   "execution_count": 34,
   "metadata": {},
   "outputs": [
    {
     "name": "stdout",
     "output_type": "stream",
     "text": [
      "StemmedCountVectorizer(analyzer='word', binary=False, decode_error='strict',\n",
      "            dtype=<class 'numpy.int64'>, encoding='utf-8', input='content',\n",
      "            lowercase=True, max_df=1.0, max_features=None, min_df=1,\n",
      "            ngram_range=(1, 1), preprocessor=None, stop_words='english',\n",
      "            strip_accents=None, token_pattern='(?u)\\\\b\\\\w\\\\w+\\\\b',\n",
      "            tokenizer=None, vocabulary=None)\n"
     ]
    }
   ],
   "source": [
    "english_stemmer = nltk.stem.SnowballStemmer('english')\n",
    "class StemmedCountVectorizer(CountVectorizer): \n",
    "    def build_analyzer(self): \n",
    "        analyzer = super(StemmedCountVectorizer, self).build_analyzer()\n",
    "        return lambda doc: (english_stemmer.stem(w) for w in  analyzer(doc))\n",
    "\n",
    "vect_engl_stem = StemmedCountVectorizer(min_df=1, stop_words='english')        \n",
    "print(vect_engl_stem)"
   ]
  },
  {
   "cell_type": "code",
   "execution_count": 35,
   "metadata": {},
   "outputs": [
    {
     "name": "stdout",
     "output_type": "stream",
     "text": [
      "#samples: 5, #features: 17\n",
      "['actual', 'capabl', 'contain', 'data', 'databas', 'imag', 'interest', 'learn', 'machin', 'perman', 'post', 'provid', 'save', 'storag', 'store', 'stuff', 'toy']\n"
     ]
    }
   ],
   "source": [
    "X_train_engl_stem = vect_engl_stem.fit_transform(posts)\n",
    "num_samples_engl_stem, num_features_engl_stem = X_train_engl_stem.shape\n",
    "print(\"#samples: %d, #features: %d\" % (num_samples_engl_stem,  num_features_engl_stem))\n",
    "print(vect_engl_stem.get_feature_names())"
   ]
  },
  {
   "cell_type": "code",
   "execution_count": 36,
   "metadata": {},
   "outputs": [
    {
     "name": "stdout",
     "output_type": "stream",
     "text": [
      "  (0, 4)\t1\n",
      "  (0, 5)\t1\n",
      "=== Post 0 with dist=1.41:\n",
      "    'This is a toy post about machine learning. Actually, it contains not much interesting stuff.'\n",
      "=== Post 1 with dist=0.86:\n",
      "    'Imaging databases provide storage capabilities.'\n",
      "=== Post 2 with dist=0.63:\n",
      "    'Most imaging databases save images permanently.\n",
      "'\n",
      "=== Post 3 with dist=0.77:\n",
      "    'Imaging databases store data.'\n",
      "=== Post 4 with dist=0.77:\n",
      "    'Imaging databases store data. Imaging databases store data. Imaging databases store data.'\n",
      "\n",
      "==> Best post is 2 with dist=0.63\n"
     ]
    }
   ],
   "source": [
    "new_post_vec_engl_stem = vect_engl_stem.transform([new_post]) \n",
    "print(new_post_vec_engl_stem)\n",
    "\n",
    "best_post(X_train_engl_stem, new_post_vec_engl_stem, dist_norm)"
   ]
  },
  {
   "cell_type": "markdown",
   "metadata": {},
   "source": [
    "## Stop words on steroids using TFIDF"
   ]
  },
  {
   "cell_type": "code",
   "execution_count": 37,
   "metadata": {},
   "outputs": [
    {
     "name": "stdout",
     "output_type": "stream",
     "text": [
      "term='a'   doc=['a']             tf=1.00   idf=0.00   tf*idf=0.00\n",
      "term='a'   doc=['a', 'b', 'b']   tf=0.33   idf=0.00   tf*idf=0.00\n",
      "term='a'   doc=['a', 'b', 'c']   tf=0.33   idf=0.00   tf*idf=0.00\n",
      "term='b'   doc=['a', 'b', 'c']   tf=0.33   idf=0.41   tf*idf=0.14\n",
      "term='c'   doc=['a', 'b', 'c']   tf=0.33   idf=1.10   tf*idf=0.37\n"
     ]
    }
   ],
   "source": [
    "def tfidf(term, doc, corpus):\n",
    "    tf = doc.count(term) / sum(doc.count(w) for w in set(doc))\n",
    "    idf = np.log(float(len(corpus)) / (len([d for d in corpus if term in d])))\n",
    "    tf_idf = tf * idf\n",
    "    print(\"term='%s'   doc=%-17s tf=%.2f   idf=%.2f   tf*idf=%.2f\"%\\\n",
    "          (term, doc, tf, idf, tf_idf))\n",
    "\n",
    "# defining some documents\n",
    "a, abb, abc = [\"a\"], [\"a\", \"b\", \"b\"], [\"a\", \"b\", \"c\"]\n",
    "\n",
    "# defining some copora\n",
    "D = [a, abb, abc]\n",
    "\n",
    "tfidf(\"a\", a, D)\n",
    "tfidf(\"a\", abb, D)\n",
    "tfidf(\"a\", abc, D)\n",
    "tfidf(\"b\", abc, D)\n",
    "tfidf(\"c\", abc, D)"
   ]
  },
  {
   "cell_type": "code",
   "execution_count": 38,
   "metadata": {},
   "outputs": [
    {
     "name": "stdout",
     "output_type": "stream",
     "text": [
      "StemmedTfidfVectorizer(analyzer='word', binary=False, decode_error='ignore',\n",
      "            dtype=<class 'numpy.int64'>, encoding='utf-8', input='content',\n",
      "            lowercase=True, max_df=1.0, max_features=None, min_df=1,\n",
      "            ngram_range=(1, 1), norm='l2', preprocessor=None,\n",
      "            smooth_idf=True, stop_words='english', strip_accents=None,\n",
      "            sublinear_tf=False, token_pattern='(?u)\\\\b\\\\w\\\\w+\\\\b',\n",
      "            tokenizer=None, use_idf=True, vocabulary=None)\n"
     ]
    }
   ],
   "source": [
    "from sklearn.feature_extraction.text import TfidfVectorizer\n",
    "\n",
    "class StemmedTfidfVectorizer(TfidfVectorizer):\n",
    "\n",
    "    def build_analyzer(self):\n",
    "        analyzer = super(TfidfVectorizer, self).build_analyzer()\n",
    "        return lambda doc: (english_stemmer.stem(w) for w in analyzer(doc))\n",
    "\n",
    "vect_tfidf = StemmedTfidfVectorizer(#min_df=10, max_df=0.5,\n",
    "                                    stop_words='english', decode_error='ignore')\n",
    "print(vect_tfidf)"
   ]
  },
  {
   "cell_type": "code",
   "execution_count": 39,
   "metadata": {},
   "outputs": [
    {
     "name": "stdout",
     "output_type": "stream",
     "text": [
      "#samples: 5, #features: 17\n",
      "['actual', 'capabl', 'contain', 'data', 'databas', 'imag', 'interest', 'learn', 'machin', 'perman', 'post', 'provid', 'save', 'storag', 'store', 'stuff', 'toy']\n"
     ]
    }
   ],
   "source": [
    "X_train_tfidf = vect_tfidf.fit_transform(posts)\n",
    "num_samples_tfidf, num_features_tfidf = X_train_tfidf.shape\n",
    "print(\"#samples: %d, #features: %d\" % (num_samples_tfidf,  num_features_tfidf))\n",
    "print(vect_tfidf.get_feature_names())"
   ]
  },
  {
   "cell_type": "markdown",
   "metadata": {},
   "source": [
    "## K-Means Clustering"
   ]
  },
  {
   "cell_type": "code",
   "execution_count": 45,
   "metadata": {},
   "outputs": [
    {
     "data": {
      "image/png": "[encoded data removed]",
      "text/plain": [
       "<matplotlib.figure.Figure at 0x2336c75f128>"
      ]
     },
     "metadata": {},
     "output_type": "display_data"
    }
   ],
   "source": [
    "from sklearn.cluster import KMeans\n",
    "\n",
    "seed = 2\n",
    "np.random.seed(seed)  # to reproduce the data later on\n",
    "\n",
    "num_clusters = 3\n",
    "\n",
    "\n",
    "def plot_clustering(x, y, title, mx=None, ymax=None, xmin=None, km=None):\n",
    "    plt.figure(num=None, figsize=(8, 6))\n",
    "    if km:\n",
    "        plt.scatter(x, y, s=50, c=km.predict(list(zip(x, y))))\n",
    "    else:\n",
    "        plt.scatter(x, y, s=50)\n",
    "\n",
    "    plt.title(title)\n",
    "    plt.xlabel(\"Occurrence word 1\")\n",
    "    plt.ylabel(\"Occurrence word 2\")\n",
    "\n",
    "    plt.autoscale(tight=True)\n",
    "    plt.ylim(ymin=0, ymax=1)\n",
    "    plt.xlim(xmin=0, xmax=1)\n",
    "    plt.grid(True, linestyle='-', color='0.75')\n",
    "\n",
    "    return plt\n",
    "\n",
    "\n",
    "xw1 = scipy.stats.norm(loc=0.3, scale=.15).rvs(20)\n",
    "yw1 = scipy.stats.norm(loc=0.3, scale=.15).rvs(20)\n",
    "\n",
    "xw2 = scipy.stats.norm(loc=0.7, scale=.15).rvs(20)\n",
    "yw2 = scipy.stats.norm(loc=0.7, scale=.15).rvs(20)\n",
    "\n",
    "xw3 = scipy.stats.norm(loc=0.2, scale=.15).rvs(20)\n",
    "yw3 = scipy.stats.norm(loc=0.8, scale=.15).rvs(20)\n",
    "\n",
    "x = np.append(np.append(xw1, xw2), xw3)\n",
    "y = np.append(np.append(yw1, yw2), yw3)\n",
    "\n",
    "plot_clustering(x, y, \"Vectors\")\n",
    "save_png(\"01_clustering_data\")"
   ]
  },
  {
   "cell_type": "markdown",
   "metadata": {},
   "source": [
    "### Clustering after 1st iteration"
   ]
  },
  {
   "cell_type": "code",
   "execution_count": 49,
   "metadata": {
    "scrolled": false
   },
   "outputs": [
    {
     "name": "stdout",
     "output_type": "stream",
     "text": [
      "Initialization complete\n",
      "start iteration\n",
      "done sorting\n",
      "end inner loop\n",
      "Iteration 0, inertia 3.7464563797\n"
     ]
    },
    {
     "data": {
      "image/png": "[encoded data removed]",
      "text/plain": [
       "<matplotlib.figure.Figure at 0x2336ca362e8>"
      ]
     },
     "metadata": {},
     "output_type": "display_data"
    }
   ],
   "source": [
    "mx, my = np.meshgrid(np.arange(0, 1, 0.001), np.arange(0, 1, 0.001))\n",
    "\n",
    "km = KMeans(init='random', n_clusters=num_clusters, verbose=1,\n",
    "            n_init=1, max_iter=1,\n",
    "            random_state=seed)\n",
    "km.fit(np.array(list(zip(x, y))))\n",
    "\n",
    "Z = km.predict(np.c_[mx.ravel(), my.ravel()]).reshape(mx.shape)\n",
    "\n",
    "plot_clustering(x, y, \"Clustering iteration 1\", km=km)\n",
    "plt.imshow(Z, interpolation='nearest',\n",
    "           extent=(mx.min(), mx.max(), my.min(), my.max()),\n",
    "           cmap=plt.cm.Blues,\n",
    "           aspect='auto', origin='lower')\n",
    "\n",
    "c1a, c1b, c1c = km.cluster_centers_\n",
    "plt.scatter(km.cluster_centers_[:, 0], km.cluster_centers_[:, 1],\n",
    "              marker='x', linewidth=2, s=100, color='black')\n",
    "save_png(\"02_clustering_iteration_1\")"
   ]
  },
  {
   "cell_type": "markdown",
   "metadata": {},
   "source": [
    "### Clustering after 2nd iteration"
   ]
  },
  {
   "cell_type": "code",
   "execution_count": 50,
   "metadata": {},
   "outputs": [
    {
     "name": "stdout",
     "output_type": "stream",
     "text": [
      "Initialization complete\n",
      "start iteration\n",
      "done sorting\n",
      "end inner loop\n",
      "Iteration 0, inertia 3.7464563797\n",
      "start iteration\n",
      "done sorting\n",
      "end inner loop\n",
      "Iteration 1, inertia 2.83547634192\n"
     ]
    },
    {
     "data": {
      "image/png": "[encoded data removed]",
      "text/plain": [
       "<matplotlib.figure.Figure at 0x2336ca36a58>"
      ]
     },
     "metadata": {},
     "output_type": "display_data"
    }
   ],
   "source": [
    "km = KMeans(init='random', n_clusters=num_clusters, verbose=1,\n",
    "            n_init=1, max_iter=2,\n",
    "            random_state=seed)\n",
    "km.fit(np.array(list(zip(x, y))))\n",
    "\n",
    "Z = km.predict(np.c_[mx.ravel(), my.ravel()]).reshape(mx.shape)\n",
    "\n",
    "plot_clustering(x, y, \"Clustering iteration 2\", km=km)\n",
    "plt.imshow(Z, interpolation='nearest',\n",
    "           extent=(mx.min(), mx.max(), my.min(), my.max()),\n",
    "           cmap=plt.cm.Blues,\n",
    "           aspect='auto', origin='lower')\n",
    "\n",
    "c2a, c2b, c2c = km.cluster_centers_\n",
    "plt.scatter(km.cluster_centers_[:, 0], km.cluster_centers_[:, 1],\n",
    "              marker='x', linewidth=2, s=100, color='black')\n",
    "\n",
    "plt.gca().add_patch(plt.Arrow(c1a[0], c1a[1], c2a[0] - c1a[0], c2a[1] - c1a[1], width=0.1, color='red'))\n",
    "plt.gca().add_patch(plt.Arrow(c1b[0], c1b[1], c2b[0] - c1b[0], c2b[1] - c1b[1], width=0.1, color='red'))\n",
    "plt.gca().add_patch(plt.Arrow(c1c[0], c1c[1], c2c[0] - c1c[0], c2c[1] - c1c[1], width=0.1, color='red'))\n",
    "\n",
    "save_png(\"03_clustering_iteration_2\")"
   ]
  },
  {
   "cell_type": "markdown",
   "metadata": {},
   "source": [
    "### Final clustering\n",
    "We iterate at max 10 iterations, but will converge earlier."
   ]
  },
  {
   "cell_type": "code",
   "execution_count": 52,
   "metadata": {
    "scrolled": false
   },
   "outputs": [
    {
     "name": "stdout",
     "output_type": "stream",
     "text": [
      "Initialization complete\n",
      "start iteration\n",
      "done sorting\n",
      "end inner loop\n",
      "Iteration 0, inertia 3.7464563797\n",
      "start iteration\n",
      "done sorting\n",
      "end inner loop\n",
      "Iteration 1, inertia 2.83547634192\n",
      "start iteration\n",
      "done sorting\n",
      "end inner loop\n",
      "Iteration 2, inertia 2.53604625612\n",
      "start iteration\n",
      "done sorting\n",
      "end inner loop\n",
      "Iteration 3, inertia 2.44722301621\n",
      "start iteration\n",
      "done sorting\n",
      "end inner loop\n",
      "Iteration 4, inertia 2.44722301621\n",
      "center shift 0.000000e+00 within tolerance 7.366762e-06\n"
     ]
    },
    {
     "data": {
      "image/png": "[encoded data removed]",
      "text/plain": [
       "<matplotlib.figure.Figure at 0x2336c74e1d0>"
      ]
     },
     "metadata": {},
     "output_type": "display_data"
    }
   ],
   "source": [
    "# 10 iterations ####################\n",
    "km = KMeans(init='random', n_clusters=num_clusters, verbose=1,\n",
    "            n_init=1, max_iter=10,\n",
    "            random_state=seed)\n",
    "km.fit(np.array(list(zip(x, y))))\n",
    "\n",
    "Z = km.predict(np.c_[mx.ravel(), my.ravel()]).reshape(mx.shape)\n",
    "\n",
    "plot_clustering(x, y, \"Clustering iteration 10\", km=km)\n",
    "plt.imshow(Z, interpolation='nearest',\n",
    "             extent=(mx.min(), mx.max(), my.min(), my.max()),\n",
    "             cmap=plt.cm.Blues,\n",
    "             aspect='auto', origin='lower')\n",
    "\n",
    "plt.scatter(km.cluster_centers_[:, 0], km.cluster_centers_[:, 1],\n",
    "              marker='x', linewidth=2, s=100, color='black')\n",
    "save_png(\"04_clustering_iteration_final\")"
   ]
  },
  {
   "cell_type": "markdown",
   "metadata": {},
   "source": [
    "## Testing our idea on real data"
   ]
  },
  {
   "cell_type": "code",
   "execution_count": 53,
   "metadata": {},
   "outputs": [
    {
     "name": "stdout",
     "output_type": "stream",
     "text": [
      "18846\n",
      "['alt.atheism', 'comp.graphics', 'comp.os.ms-windows.misc', 'comp.sys.ibm.pc.hardware', 'comp.sys.mac.hardware', 'comp.windows.x', 'misc.forsale', 'rec.autos', 'rec.motorcycles', 'rec.sport.baseball', 'rec.sport.hockey', 'sci.crypt', 'sci.electronics', 'sci.med', 'sci.space', 'soc.religion.christian', 'talk.politics.guns', 'talk.politics.mideast', 'talk.politics.misc', 'talk.religion.misc']\n"
     ]
    }
   ],
   "source": [
    "import sklearn.datasets\n",
    "all_data = sklearn.datasets.fetch_20newsgroups(subset='all') \n",
    "print(len(all_data.filenames))\n",
    "print(all_data.target_names)"
   ]
  },
  {
   "cell_type": "code",
   "execution_count": 54,
   "metadata": {},
   "outputs": [
    {
     "name": "stdout",
     "output_type": "stream",
     "text": [
      "11314\n",
      "7532\n"
     ]
    }
   ],
   "source": [
    "train_data = sklearn.datasets.fetch_20newsgroups(subset=\"train\")\n",
    "print(len(train_data.filenames))\n",
    "\n",
    "test_data = sklearn.datasets.fetch_20newsgroups(subset='test')\n",
    "print(len(test_data.filenames))"
   ]
  },
  {
   "cell_type": "code",
   "execution_count": 55,
   "metadata": {},
   "outputs": [
    {
     "name": "stdout",
     "output_type": "stream",
     "text": [
      "3529\n",
      "2349\n"
     ]
    }
   ],
   "source": [
    "groups = ['comp.graphics', 'comp.os.ms-windows.misc', 'comp.sys.ibm.pc.hardware',\n",
    "          'comp.sys.mac.hardware', 'comp.windows.x', 'sci.space']\n",
    "\n",
    "train_data = sklearn.datasets.fetch_20newsgroups(subset=\"train\", categories=groups)\n",
    "print(len(train_data.filenames))\n",
    "\n",
    "test_data = sklearn.datasets.fetch_20newsgroups(subset='test', categories=groups)\n",
    "print(len(test_data.filenames))"
   ]
  },
  {
   "cell_type": "markdown",
   "metadata": {},
   "source": [
    "## Clustering posts"
   ]
  },
  {
   "cell_type": "code",
   "execution_count": 56,
   "metadata": {},
   "outputs": [
    {
     "name": "stdout",
     "output_type": "stream",
     "text": [
      "#samples: 3529, #features: 4712\n"
     ]
    }
   ],
   "source": [
    "vectorizer = StemmedTfidfVectorizer(min_df=10, max_df=0.5,\n",
    "                                    stop_words='english', decode_error='ignore')\n",
    "vectorized = vectorizer.fit_transform(train_data.data)\n",
    "\n",
    "num_samples, num_features = vectorized.shape\n",
    "print(\"#samples: %d, #features: %d\" % (num_samples, num_features))"
   ]
  },
  {
   "cell_type": "code",
   "execution_count": 71,
   "metadata": {},
   "outputs": [
    {
     "name": "stdout",
     "output_type": "stream",
     "text": [
      "Initialization complete\n",
      "Iteration  0, inertia 5686.053\n",
      "Iteration  1, inertia 3164.888\n",
      "Iteration  2, inertia 3132.208\n",
      "Iteration  3, inertia 3111.713\n",
      "Iteration  4, inertia 3098.584\n",
      "Iteration  5, inertia 3092.191\n",
      "Iteration  6, inertia 3087.277\n",
      "Iteration  7, inertia 3084.100\n",
      "Iteration  8, inertia 3082.800\n",
      "Iteration  9, inertia 3082.234\n",
      "Iteration 10, inertia 3081.949\n",
      "Iteration 11, inertia 3081.843\n",
      "Iteration 12, inertia 3081.791\n",
      "Iteration 13, inertia 3081.752\n",
      "Iteration 14, inertia 3081.660\n",
      "Iteration 15, inertia 3081.617\n",
      "Iteration 16, inertia 3081.589\n",
      "Iteration 17, inertia 3081.571\n",
      "Converged at iteration 17: center shift 0.000000e+00 within tolerance 2.069005e-08\n"
     ]
    }
   ],
   "source": [
    "num_clusters = 50  # np.unique(labels).shape[0]\n",
    "\n",
    "km = KMeans(n_clusters=num_clusters, n_init=1, verbose=1, random_state=3)\n",
    "clustered = km.fit(vectorized)"
   ]
  },
  {
   "cell_type": "code",
   "execution_count": 72,
   "metadata": {},
   "outputs": [
    {
     "name": "stdout",
     "output_type": "stream",
     "text": [
      "km.labels_=[48 23 31 ...,  6  2 22]\n",
      "km.labels_.shape=3529\n"
     ]
    }
   ],
   "source": [
    "print(\"km.labels_=%s\" % km.labels_)\n",
    "print(\"km.labels_.shape=%s\" % km.labels_.shape)"
   ]
  },
  {
   "cell_type": "code",
   "execution_count": 73,
   "metadata": {},
   "outputs": [],
   "source": [
    "new_post = '''\\\n",
    "Disk drive problems. Hi, I have a problem with my hard disk.\n",
    "After 1 year it is working only sporadically now.\n",
    "I tried to format it, but now it doesn't boot any more.\n",
    "Any ideas? Thanks.\n",
    "'''\n",
    "\n",
    "new_post_vec = vectorizer.transform([new_post])\n",
    "new_post_label = km.predict(new_post_vec)[0]\n",
    "\n",
    "similar_indices = (km.labels_ == new_post_label).nonzero()[0]\n",
    "\n",
    "similar = []\n",
    "for i in similar_indices:\n",
    "    dist = scipy.linalg.norm((new_post_vec - vectorized[i]).toarray())\n",
    "    similar.append((dist, train_data.data[i]))"
   ]
  },
  {
   "cell_type": "code",
   "execution_count": 74,
   "metadata": {},
   "outputs": [
    {
     "name": "stdout",
     "output_type": "stream",
     "text": [
      "Count similar: 56\n",
      "=== #1 ===\n",
      "(1.0378441731334074, \"From: Thomas Dachsel <GERTHD@mvs.sas.com>\\nSubject: BOOT PROBLEM with IDE controller\\nNntp-Posting-Host: sdcmvs.mvs.sas.com\\nOrganization: SAS Institute Inc.\\nLines: 25\\n\\nHi,\\nI've got a Multi I/O card (IDE controller + serial/parallel\\ninterface) and two floppy drives (5 1/4, 3 1/2) and a\\nQuantum ProDrive 80AT connected to it.\\nI was able to format the hard disk, but I could not boot from\\nit. I can boot from drive A: (which disk drive does not matter)\\nbut if I remove the disk from drive A and press the reset switch,\\nthe LED of drive A: continues to glow, and the hard disk is\\nnot accessed at all.\\nI guess this must be a problem of either the Multi I/o card\\nor floppy disk drive settings (jumper configuration?)\\nDoes someone have any hint what could be the reason for it.\\nPlease reply by email to GERTHD@MVS.SAS.COM\\nThanks,\\nThomas\\n+-------------------------------------------------------------------+\\n| Thomas Dachsel                                                    |\\n| Internet: GERTHD@MVS.SAS.COM                                      |\\n| Fidonet:  Thomas_Dachsel@camel.fido.de (2:247/40)                 |\\n| Subnet:   dachsel@rnivh.rni.sub.org (UUCP in Germany, now active) |\\n| Phone:    +49 6221 4150 (work), +49 6203 12274 (home)             |\\n| Fax:      +49 6221 415101                                         |\\n| Snail:    SAS Institute GmbH, P.O.Box 105307, D-W-6900 Heidelberg |\\n| Tagline:  One bad sector can ruin a whole day...                  |\\n+-------------------------------------------------------------------+\\n\")\n",
      "\n",
      "=== #2 ===\n",
      "(1.1503043264096682, 'From: rpao@mts.mivj.ca.us (Roger C. Pao)\\nSubject: Re: Booting from B drive\\nOrganization: MicroTech Software\\nLines: 34\\n\\nglang@slee01.srl.ford.com (Gordon Lang) writes:\\n\\n>David Weisberger (djweisbe@unix.amherst.edu) wrote:\\n>: I have a 5 1/4\" drive as drive A.  How can I make the system boot from\\n>: my 3 1/2\" B drive?  (Optimally, the computer would be able to boot\\n>: from either A or B, checking them in order for a bootable disk.  But\\n>: if I have to switch cables around and simply switch the drives so that\\n>: it can\\'t boot 5 1/4\" disks, that\\'s OK.  Also, boot_b won\\'t do the trick\\n>: for me.)\\n>: \\n>: Thanks,\\n>:   Davebo\\n>We had the same issue plague us for months on our Gateway.  I finally\\n>got tired of it so I permanently interchanged the drives.  The only\\n>reason I didn\\'t do it in the first place was because I had several\\n>bootable 5-1/4\\'s and some 5-1/4 based install disks which expected\\n>the A drive.  I order all new software (and upgrades) to be 3-1/2 and\\n>the number of \"stupid\" install programs that can\\'t handle an alternate\\n>drive are declining with time - the ones I had are now upgraded.  And\\n>as for the bootable 5-1/4\\'s I just cut 3-1/2 replacements.\\n\\n>If switching the drives is not an option, you might be able to wire up\\n>a drive switch to your computer chasis.  I haven\\'t tried it but I think\\n>it would work as long as it is wired carefully.\\n\\nI did this.  I use a relay (Radio Shack 4PDT) instead of a huge\\nswitch.  This way, if the relay breaks, my drives will still work.\\n\\nIt works fine, but you may still need to change the CMOS before the\\ndrive switch will work correctly for some programs.\\n\\nrp93\\n-- \\nRoger C. Pao  {gordius,bagdad}!mts!rpao, rpao@mts.mivj.ca.us\\n')\n",
      "\n",
      "=== #3 ===\n",
      "(1.2793959084781283, 'From: vg@volkmar.Stollmann.DE (Volkmar Grote)\\nSubject: IBM PS/1 vs TEAC FD\\nDistribution: world\\nOrganization: Me? Organized?\\nLines: 21\\n\\nHello,\\n\\nI already tried our national news group without success.\\n\\nI tried to replace a friend\\'s original IBM floppy disk in his PS/1-PC\\nwith a normal TEAC drive.\\nI already identified the power supply on pins 3 (5V) and 6 (12V), shorted\\npin 6 (5.25\"/3.5\" switch) and inserted pullup resistors (2K2) on pins\\n8, 26, 28, 30, and 34.\\nThe computer doesn\\'t complain about a missing FD, but the FD\\'s light\\nstays on all the time. The drive spins up o.k. when I insert a disk,\\nbut I can\\'t access it.\\nThe TEAC works fine in a normal PC.\\n\\nAre there any points I missed?\\n\\nThank you.\\n\\tVolkmar\\n\\n---\\nVolkmar.Grote@Stollmann.DE\\n')\n"
     ]
    }
   ],
   "source": [
    "similar = sorted(similar)\n",
    "print(\"Count similar: %i\" % len(similar))\n",
    "\n",
    "show_at_1 = similar[0]\n",
    "show_at_2 = similar[int(len(similar) / 10)]\n",
    "show_at_3 = similar[int(len(similar) / 2)]\n",
    "\n",
    "print(\"=== #1 ===\")\n",
    "print(show_at_1)\n",
    "print()\n",
    "\n",
    "print(\"=== #2 ===\")\n",
    "print(show_at_2)\n",
    "print()\n",
    "\n",
    "print(\"=== #3 ===\")\n",
    "print(show_at_3)"
   ]
  },
  {
   "cell_type": "code",
   "execution_count": 75,
   "metadata": {},
   "outputs": [
    {
     "name": "stdout",
     "output_type": "stream",
     "text": [
      "(245, 'From: SITUNAYA@IBM3090.BHAM.AC.UK\\nSubject: test....(sorry)\\nOrganization: The University of Birmingham, United Kingdom\\nLines: 1\\nNNTP-Posting-Host: ibm3090.bham.ac.uk\\n\\n==============================================================================\\n', 'comp.graphics')\n"
     ]
    }
   ],
   "source": [
    "post_group = zip(train_data.data, train_data.target)\n",
    "\n",
    "# Create a list of tuples that can be sorted by\n",
    "# the length of the posts\n",
    "all = [(len(post[0]), post[0], train_data.target_names[post[1]])\n",
    "       for post in post_group]\n",
    "graphics = sorted([post for post in all if post[2] == 'comp.graphics'])\n",
    "print(graphics[5])"
   ]
  },
  {
   "cell_type": "code",
   "execution_count": 76,
   "metadata": {},
   "outputs": [
    {
     "name": "stdout",
     "output_type": "stream",
     "text": [
      "['situnaya', 'ibm3090', 'bham', 'ac', 'uk', 'subject', 'test', 'sorri', 'organ', 'univers', 'birmingham', 'unit', 'kingdom', 'line', 'nntp', 'post', 'host', 'ibm3090', 'bham', 'ac', 'uk']\n"
     ]
    }
   ],
   "source": [
    "noise_post = graphics[5][1]\n",
    "\n",
    "analyzer = vectorizer.build_analyzer()\n",
    "print(list(analyzer(noise_post)))"
   ]
  },
  {
   "cell_type": "code",
   "execution_count": 77,
   "metadata": {},
   "outputs": [
    {
     "name": "stdout",
     "output_type": "stream",
     "text": [
      "['ac', 'birmingham', 'host', 'kingdom', 'nntp', 'sorri', 'test', 'uk', 'unit', 'univers']\n"
     ]
    }
   ],
   "source": [
    "useful = set(analyzer(noise_post)).intersection(vectorizer.get_feature_names())\n",
    "print(sorted(useful))\n",
    "# ['ac', 'birmingham', 'host', 'kingdom', 'nntp', 'sorri', 'test', 'uk', 'unit', 'univers']"
   ]
  },
  {
   "cell_type": "code",
   "execution_count": 87,
   "metadata": {},
   "outputs": [
    {
     "name": "stdout",
     "output_type": "stream",
     "text": [
      "IDF(ac        ) = 3.51\n",
      "IDF(birmingham) = 6.77\n",
      "IDF(host      ) = 1.74\n",
      "IDF(kingdom   ) = 6.68\n",
      "IDF(nntp      ) = 1.77\n",
      "IDF(sorri     ) = 4.14\n",
      "IDF(test      ) = 3.83\n",
      "IDF(uk        ) = 3.70\n",
      "IDF(unit      ) = 4.42\n",
      "IDF(univers   ) = 1.91\n"
     ]
    }
   ],
   "source": [
    "for term in sorted(useful):\n",
    "    print('IDF(%-10s) = %.2f' % (term,\n",
    "                            vectorizer._tfidf.idf_[vectorizer.vocabulary_[term]]))\n",
    "# IDF(ac)=3.51\n",
    "# IDF(birmingham)=6.77\n",
    "# IDF(host)=1.74\n",
    "# IDF(kingdom)=6.68\n",
    "# IDF(nntp)=1.77\n",
    "# IDF(sorri)=4.14\n",
    "# IDF(test)=3.83\n",
    "# IDF(uk)=3.70\n",
    "# IDF(unit)=4.42\n",
    "# IDF(univers)=1.91"
   ]
  }
 ],
 "metadata": {
  "kernelspec": {
   "display_name": "Python [default]",
   "language": "python",
   "name": "python3"
  },
  "language_info": {
   "codemirror_mode": {
    "name": "ipython",
    "version": 3
   },
   "file_extension": ".py",
   "mimetype": "text/x-python",
   "name": "python",
   "nbconvert_exporter": "python",
   "pygments_lexer": "ipython3",
   "version": "3.6.3"
  }
 },
 "nbformat": 4,
 "nbformat_minor": 2
}
